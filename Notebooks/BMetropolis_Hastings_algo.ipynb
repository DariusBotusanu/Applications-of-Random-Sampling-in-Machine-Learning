{
 "cells": [
  {
   "cell_type": "code",
   "execution_count": 2,
   "metadata": {},
   "outputs": [],
   "source": [
    "import numpy as np\n",
    "import pandas as pd\n",
    "import matplotlib.pyplot as plt\n",
    "import seaborn as sns\n",
    "\n",
    "from scipy.stats import randint\n",
    "seed = 0\n",
    "\n",
    "sns.set_style('whitegrid')"
   ]
  },
  {
   "cell_type": "code",
   "execution_count": 3,
   "metadata": {},
   "outputs": [],
   "source": [
    "def shape(down,up,plug_in):\n",
    "    return (up-plug_in)/(plug_in-down)\n",
    "\n",
    "def length(down, up):\n",
    "    return up-down\n",
    "\n",
    "def bootstrapped_statistics(x_stars, statistic):\n",
    "    thetas = np.empty(len(x_stars))\n",
    "    for i,x_star in enumerate(x_stars):\n",
    "        thetas[i] = statistic(x_star)\n",
    "    return thetas\n",
    "\n",
    "def bootstrap_samples(sampling_distribution, X, B):\n",
    "    X_star = np.empty(shape=(B,len(X)))\n",
    "    for i in range(B):\n",
    "        X_star[i] = X[sampling_distribution.rvs(size=len(X))]\n",
    "    return X_star"
   ]
  },
  {
   "cell_type": "code",
   "execution_count": 4,
   "metadata": {},
   "outputs": [],
   "source": [
    "def jacknife_samples(X):\n",
    "    arr = []\n",
    "    for i in range(len(X)):\n",
    "        arr.append(np.append(X[:i], X[i+1:]))\n",
    "    return np.array(arr)\n",
    "\n",
    "def acceleration(shanked_statistics):\n",
    "    n = len(shanked_statistics)\n",
    "    shanked_mean = shanked_statistics.mean()*np.ones(n)\n",
    "    denominator = np.sum((shanked_mean-shanked_statistics)**3)\n",
    "    nominator = (np.sum((shanked_mean-shanked_statistics)**2)**(3/2))*6\n",
    "    return denominator/nominator\n",
    "\n",
    "from statistics import NormalDist\n",
    "def bias_correction(boostrapped_stats, plug_in_estimation, B):\n",
    "    logic_arr = boostrapped_stats < plug_in_estimation\n",
    "    return NormalDist(mu=0, sigma=1).inv_cdf(np.sum(logic_arr)/B)\n",
    "\n",
    "def BCa_alphas(z_0, acc, alpha):\n",
    "    standard_normal = NormalDist(mu=0, sigma=1)\n",
    "    alpha_one = standard_normal.cdf(z_0+(z_0+standard_normal.inv_cdf(alpha/2))/(1-acc*(z_0+standard_normal.inv_cdf(alpha/2))))\n",
    "    alpha_two = standard_normal.cdf(z_0+(z_0+standard_normal.inv_cdf(1-alpha/2))/(1-acc*(z_0+standard_normal.inv_cdf(1-alpha/2))))\n",
    "    return alpha_one, alpha_two\n",
    "\n",
    "def BCa_interval(X, bootstrap_samples, statistic, alpha):\n",
    "    X_star = bootstrap_samples\n",
    "    X_hat = statistic(X)\n",
    "    T_star = np.array(list(map(lambda x: statistic(x), X_star)))\n",
    "    T_star = np.sort(T_star)\n",
    "    B = len(X_star)\n",
    "    shanked_samples = jacknife_samples(X)\n",
    "    acc = acceleration(np.array(list(map(lambda x: statistic(x), shanked_samples))))\n",
    "    z_0 = bias_correction(T_star, X_hat, B)\n",
    "    alpha_1, alpha_2 = BCa_alphas(z_0, acc, alpha)\n",
    "    return T_star[int(B*alpha_1//1)], T_star[int(B*alpha_2//1)]"
   ]
  },
  {
   "cell_type": "code",
   "execution_count": 5,
   "metadata": {},
   "outputs": [],
   "source": [
    "def bhm(data=None,T=20,k=30,m=10):\n",
    "    all_samples = []\n",
    "    for i in range(T*k):\n",
    "        indexes = np.random.randint(low=0, high=len(data), size=m)\n",
    "        all_samples.append(data[indexes])\n",
    "\n",
    "    all_samples = np.array(all_samples)\n",
    "    all_data = all_samples.reshape(all_samples.shape[0]*all_samples.shape[1])\n",
    "\n",
    "    theta_mean = all_data.mean()\n",
    "    s = all_data.std()\n",
    "    \n",
    "    ds_arr = []\n",
    "    for i in range(T*k):\n",
    "        d_i = []\n",
    "        if i!=0 and i%k==0:\n",
    "            ds_arr.append(d_i)\n",
    "            d_i = []\n",
    "        else:\n",
    "            d_i.append(all_samples[i])\n",
    "    \n",
    "    lb, ub = BCa_interval(all_data, all_samples, lambda x: x.mean(), alpha=0.05)\n",
    "\n",
    "    theta_t = theta_mean\n",
    "    thetas = [theta_mean]\n",
    "    acceptances = []\n",
    "    for ds in ds_arr:\n",
    "        #draw v from N(theta_t, s^2)\n",
    "        v = np.random.normal(loc=theta_t,scale=s*0.5,size=None)\n",
    "        f_di_v = 1\n",
    "        f_di_theta = 1\n",
    "        for di in ds:\n",
    "            for xj in di:\n",
    "                f_di_v*= np.exp(-((xj-v)**2)/(2*s**2))/(s*np.sqrt(2*np.pi))\n",
    "                f_di_theta*= np.exp(-((xj-theta_t)**2)/(2*s**2))/(s*np.sqrt(2*np.pi))\n",
    "        aux_1 = (f_di_v/f_di_theta)**(1/k)\n",
    "        aux_2 = theta_t/v\n",
    "        aux_3 = (s*0.5/s)*np.exp((theta_t-v)**2*(1/s**2-1/(s*0.5)**2)/2)\n",
    "        acceptance = np.min([1,aux_1*aux_2*aux_3])\n",
    "        prob = np.random.binomial(1,acceptance)\n",
    "        theta_t = v*prob + theta_t*(1-prob)\n",
    "\n",
    "        thetas.append(theta_t)\n",
    "        acceptances.append(acceptance)\n",
    "    \n",
    "    return thetas, acceptances\n"
   ]
  },
  {
   "cell_type": "code",
   "execution_count": 6,
   "metadata": {},
   "outputs": [],
   "source": [
    "wine = pd.read_csv('../data/winequality-red.csv')"
   ]
  },
  {
   "cell_type": "code",
   "execution_count": 7,
   "metadata": {},
   "outputs": [
    {
     "data": {
      "text/plain": [
       "<Axes: ylabel='Frequency'>"
      ]
     },
     "execution_count": 7,
     "metadata": {},
     "output_type": "execute_result"
    },
    {
     "data": {
      "image/png": "[encoded data removed]",
      "text/plain": [
       "<Figure size 640x480 with 1 Axes>"
      ]
     },
     "metadata": {},
     "output_type": "display_data"
    }
   ],
   "source": [
    "wine['fixed acidity'].plot(kind='hist')"
   ]
  },
  {
   "cell_type": "code",
   "execution_count": 8,
   "metadata": {},
   "outputs": [],
   "source": [
    "thetas, acceptances = bhm(data=np.array(wine['fixed acidity']),T=10,k=50,m=10)"
   ]
  },
  {
   "cell_type": "code",
   "execution_count": 9,
   "metadata": {},
   "outputs": [
    {
     "data": {
      "text/plain": [
       "[8.2886,\n",
       " 8.2886,\n",
       " 8.2886,\n",
       " 8.2886,\n",
       " 8.2886,\n",
       " 8.2886,\n",
       " 8.2886,\n",
       " 8.2886,\n",
       " 8.2886,\n",
       " 9.199177000881162]"
      ]
     },
     "execution_count": 9,
     "metadata": {},
     "output_type": "execute_result"
    }
   ],
   "source": [
    "thetas"
   ]
  },
  {
   "cell_type": "code",
   "execution_count": 11,
   "metadata": {},
   "outputs": [
    {
     "name": "stderr",
     "output_type": "stream",
     "text": [
      "c:\\Users\\Darius\\miniconda3\\envs\\general_env\\Lib\\site-packages\\seaborn\\_oldcore.py:1119: FutureWarning: use_inf_as_na option is deprecated and will be removed in a future version. Convert inf values to NaN before operating instead.\n",
      "  with pd.option_context('mode.use_inf_as_na', True):\n",
      "c:\\Users\\Darius\\miniconda3\\envs\\general_env\\Lib\\site-packages\\seaborn\\_oldcore.py:1119: FutureWarning: use_inf_as_na option is deprecated and will be removed in a future version. Convert inf values to NaN before operating instead.\n",
      "  with pd.option_context('mode.use_inf_as_na', True):\n"
     ]
    },
    {
     "data": {
      "text/plain": [
       "<Axes: >"
      ]
     },
     "execution_count": 11,
     "metadata": {},
     "output_type": "execute_result"
    },
    {
     "data": {
      "image/png": "[encoded data removed]",
      "text/plain": [
       "<Figure size 640x480 with 1 Axes>"
      ]
     },
     "metadata": {},
     "output_type": "display_data"
    }
   ],
   "source": [
    "sns.lineplot(x=range(len(thetas)), y=thetas)"
   ]
  },
  {
   "cell_type": "code",
   "execution_count": null,
   "metadata": {},
   "outputs": [],
   "source": []
  },
  {
   "cell_type": "code",
   "execution_count": 12,
   "metadata": {},
   "outputs": [
    {
     "data": {
      "text/plain": [
       "8.31963727329581"
      ]
     },
     "execution_count": 12,
     "metadata": {},
     "output_type": "execute_result"
    }
   ],
   "source": [
    "wine['fixed acidity'].mean()"
   ]
  },
  {
   "cell_type": "code",
   "execution_count": 13,
   "metadata": {},
   "outputs": [
    {
     "data": {
      "text/plain": [
       "[0.48526882622574935,\n",
       " 0.4295978005965362,\n",
       " 0.11961549539535918,\n",
       " 0.5021876548628463,\n",
       " 0.31345483873948654,\n",
       " 0.29615936738291176,\n",
       " 0.33279104490598266,\n",
       " 0.2523037288730046,\n",
       " 0.29898102534023224]"
      ]
     },
     "execution_count": 13,
     "metadata": {},
     "output_type": "execute_result"
    }
   ],
   "source": [
    "acceptances"
   ]
  },
  {
   "cell_type": "code",
   "execution_count": null,
   "metadata": {},
   "outputs": [],
   "source": []
  },
  {
   "cell_type": "code",
   "execution_count": null,
   "metadata": {},
   "outputs": [],
   "source": []
  }
 ],
 "metadata": {
  "kernelspec": {
   "display_name": "base",
   "language": "python",
   "name": "python3"
  },
  "language_info": {
   "codemirror_mode": {
    "name": "ipython",
    "version": 3
   },
   "file_extension": ".py",
   "mimetype": "text/x-python",
   "name": "python",
   "nbconvert_exporter": "python",
   "pygments_lexer": "ipython3",
   "version": "3.12.2"
  },
  "orig_nbformat": 4
 },
 "nbformat": 4,
 "nbformat_minor": 2
}
