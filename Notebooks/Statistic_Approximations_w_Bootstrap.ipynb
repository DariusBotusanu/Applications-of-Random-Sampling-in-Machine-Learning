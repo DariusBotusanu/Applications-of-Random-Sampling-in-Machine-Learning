{
 "cells": [
  {
   "cell_type": "code",
   "execution_count": 18,
   "id": "02ab8ddc",
   "metadata": {},
   "outputs": [],
   "source": [
    "import numpy as np\n",
    "import pandas as pd\n",
    "import matplotlib.pyplot as plt\n",
    "import seaborn as sns\n",
    "\n",
    "from scipy.stats import randint\n",
    "from scipy.stats import kurtosis, skew\n",
    "\n",
    "\n",
    "sns.set_style(\"whitegrid\")"
   ]
  },
  {
   "cell_type": "code",
   "execution_count": 2,
   "id": "365574cb",
   "metadata": {},
   "outputs": [],
   "source": [
    "df = pd.read_csv('../data/kindey stone urine analysis.csv')"
   ]
  },
  {
   "cell_type": "code",
   "execution_count": 3,
   "id": "af1c1b01",
   "metadata": {},
   "outputs": [],
   "source": [
    "X = df.ph\n",
    "Y = df.urea\n",
    "B = 200 #number of bootstrap samples"
   ]
  },
  {
   "cell_type": "code",
   "execution_count": 4,
   "id": "d25be6c2",
   "metadata": {},
   "outputs": [],
   "source": [
    "discrete_uniform = randint(low = 0, high=79) #distribution"
   ]
  },
  {
   "cell_type": "code",
   "execution_count": 5,
   "id": "0277e801",
   "metadata": {},
   "outputs": [],
   "source": [
    "def bootstrap_statistic(sampling_distribution, statistic, X, B):\n",
    "    T_star = np.empty(shape=(B))\n",
    "    X_star = np.empty(shape=(B,len(X)))\n",
    "    for i in range(B):\n",
    "        X_star_i = X[sampling_distribution.rvs(size=len(X))]\n",
    "        X_star[i] = X_star_i\n",
    "        T_star_i = statistic(X_star_i)\n",
    "        T_star[i] = T_star_i\n",
    "    return X_star, T_star, statistic(T_star)"
   ]
  },
  {
   "cell_type": "code",
   "execution_count": 6,
   "id": "4a922bdb",
   "metadata": {},
   "outputs": [],
   "source": [
    "def bootstrap_samples(X,B,sampling_distribution):\n",
    "    X_star = np.empty(shape=(B,len(X)))\n",
    "    for i in range(B):\n",
    "        X_star[i] = X[sampling_distribution.rvs(size=len(X))]\n",
    "    return X_star"
   ]
  },
  {
   "cell_type": "code",
   "execution_count": 7,
   "id": "8e0305e3",
   "metadata": {},
   "outputs": [],
   "source": [
    "def sample_standard_error(X:np.ndarray) -> float:\n",
    "    X_centered_squared = (X-X.mean())**2\n",
    "    return np.sqrt(np.sum(X_centered_squared)/(len(X)-1))"
   ]
  },
  {
   "cell_type": "code",
   "execution_count": 8,
   "id": "3077b90b",
   "metadata": {},
   "outputs": [],
   "source": [
    "def variance(X:np.ndarray) -> float:\n",
    "    X_centered_squared = (X-X.mean())**2\n",
    "    return np.sum(X_centered_squared)/len(X)"
   ]
  },
  {
   "cell_type": "code",
   "execution_count": 9,
   "id": "d62d22e0",
   "metadata": {},
   "outputs": [],
   "source": [
    "X_star = bootstrap_samples(X,B,discrete_uniform)"
   ]
  },
  {
   "cell_type": "code",
   "execution_count": 10,
   "id": "5dbd9888",
   "metadata": {},
   "outputs": [
    {
     "name": "stdout",
     "output_type": "stream",
     "text": [
      "Bootstrap mean: 6.030870253164558, Data mean 6.028481012658226\n"
     ]
    }
   ],
   "source": [
    "###Compute the sample mean\n",
    "T_means = np.empty(B)\n",
    "for i, x in enumerate(X_star):\n",
    "    T_means[i] = x.mean()\n",
    "print(f\"Bootstrap mean: {T_means.mean()}, Data mean {X.mean()}\")"
   ]
  },
  {
   "cell_type": "code",
   "execution_count": 11,
   "id": "8c33c523",
   "metadata": {},
   "outputs": [
    {
     "name": "stdout",
     "output_type": "stream",
     "text": [
      "Standard error of the mean: 0.08708108413166259, std dev of X: 0.724307075776203\n"
     ]
    }
   ],
   "source": [
    "print(f\"Standard error of the mean: {sample_standard_error(T_means)}, std dev of X: {sample_standard_error(X)}\")"
   ]
  },
  {
   "cell_type": "code",
   "execution_count": 12,
   "id": "99e80157",
   "metadata": {},
   "outputs": [
    {
     "name": "stderr",
     "output_type": "stream",
     "text": [
      "c:\\Users\\Darius\\miniconda3\\envs\\general_env\\Lib\\site-packages\\seaborn\\_oldcore.py:1119: FutureWarning: use_inf_as_na option is deprecated and will be removed in a future version. Convert inf values to NaN before operating instead.\n",
      "  with pd.option_context('mode.use_inf_as_na', True):\n"
     ]
    },
    {
     "data": {
      "image/png": "[encoded data removed]",
      "text/plain": [
       "<Figure size 640x480 with 1 Axes>"
      ]
     },
     "metadata": {},
     "output_type": "display_data"
    }
   ],
   "source": [
    "ax = sns.histplot(T_means)\n",
    "ax.set_xlabel(\"Bootstrap Means\")\n",
    "plt.show()"
   ]
  },
  {
   "cell_type": "code",
   "execution_count": 19,
   "id": "6338c84d",
   "metadata": {},
   "outputs": [],
   "source": [
    "def bootstrap_bivariate_samples(X,Y,B,sampling_distribution):\n",
    "    X_star = np.empty(shape=(B,len(X)))\n",
    "    Y_star = np.empty(shape=(B,len(X)))\n",
    "    for i in range(B):\n",
    "        idx = sampling_distribution.rvs(size=len(X))\n",
    "        X_star[i] = X[idx]\n",
    "        Y_star[i] = Y[idx]\n",
    "    return X_star, Y_star"
   ]
  },
  {
   "cell_type": "code",
   "execution_count": 20,
   "id": "c2193c8d",
   "metadata": {},
   "outputs": [],
   "source": [
    "X_star, Y_star = bootstrap_bivariate_samples(X,Y,B,discrete_uniform)"
   ]
  },
  {
   "cell_type": "code",
   "execution_count": 21,
   "id": "f85b29dc",
   "metadata": {},
   "outputs": [],
   "source": [
    "T_boot_corr = np.empty(B)\n",
    "for i in range(len(X_star)):\n",
    "    T_boot_corr[i] = np.corrcoef(X_star[i],Y_star[i])[0][1]"
   ]
  },
  {
   "cell_type": "code",
   "execution_count": 22,
   "id": "0c8377f0",
   "metadata": {},
   "outputs": [],
   "source": [
    "T_boot_corr= np.load('T_boot_corr.npy')"
   ]
  },
  {
   "cell_type": "code",
   "execution_count": 23,
   "id": "af0ab81a",
   "metadata": {},
   "outputs": [
    {
     "name": "stderr",
     "output_type": "stream",
     "text": [
      "c:\\Users\\Darius\\miniconda3\\envs\\general_env\\Lib\\site-packages\\seaborn\\_oldcore.py:1119: FutureWarning: use_inf_as_na option is deprecated and will be removed in a future version. Convert inf values to NaN before operating instead.\n",
      "  with pd.option_context('mode.use_inf_as_na', True):\n"
     ]
    },
    {
     "data": {
      "image/png": "[encoded data removed]",
      "text/plain": [
       "<Figure size 640x480 with 1 Axes>"
      ]
     },
     "metadata": {},
     "output_type": "display_data"
    }
   ],
   "source": [
    "ax = sns.histplot(T_boot_corr)\n",
    "ax.set_xlabel('Bootstrap Correlation')\n",
    "plt.show()"
   ]
  },
  {
   "cell_type": "code",
   "execution_count": null,
   "id": "fba31d6c",
   "metadata": {},
   "outputs": [],
   "source": []
  },
  {
   "cell_type": "code",
   "execution_count": 24,
   "id": "97f0fa03",
   "metadata": {},
   "outputs": [
    {
     "name": "stdout",
     "output_type": "stream",
     "text": [
      "Kurtosis = -0.3597486556625231 | Skew = 0.17216587994348576\n"
     ]
    }
   ],
   "source": [
    "print(f\"Kurtosis = {kurtosis(T_boot_corr)} | Skew = {skew(T_boot_corr)}\")"
   ]
  },
  {
   "cell_type": "code",
   "execution_count": 27,
   "id": "5a78c52e",
   "metadata": {},
   "outputs": [
    {
     "data": {
      "text/plain": [
       "-0.28210017901180334"
      ]
     },
     "execution_count": 27,
     "metadata": {},
     "output_type": "execute_result"
    }
   ],
   "source": [
    "T_boot_corr.mean()"
   ]
  },
  {
   "cell_type": "code",
   "execution_count": 28,
   "id": "76fdb2bb",
   "metadata": {},
   "outputs": [],
   "source": [
    "aux = bootstrap_samples(T_boot_corr,B,randint(low = 0, high=len(T_boot_corr)))"
   ]
  },
  {
   "cell_type": "code",
   "execution_count": 28,
   "id": "a162127a",
   "metadata": {},
   "outputs": [
    {
     "data": {
      "text/plain": [
       "array([[ 1.        , -0.27555694],\n",
       "       [-0.27555694,  1.        ]])"
      ]
     },
     "execution_count": 28,
     "metadata": {},
     "output_type": "execute_result"
    }
   ],
   "source": [
    "np.corrcoef(X,Y)"
   ]
  },
  {
   "cell_type": "code",
   "execution_count": null,
   "id": "ee5afb08",
   "metadata": {},
   "outputs": [],
   "source": []
  },
  {
   "cell_type": "code",
   "execution_count": 31,
   "id": "84d9f461",
   "metadata": {},
   "outputs": [],
   "source": [
    "X_star, T_star,  sample_var_boot = bootstrap_statistic(discrete_uniform, sample_standard_error, X, B)"
   ]
  },
  {
   "cell_type": "code",
   "execution_count": 34,
   "id": "af7fab60",
   "metadata": {},
   "outputs": [
    {
     "data": {
      "text/plain": [
       "0.7185983453090883"
      ]
     },
     "execution_count": 34,
     "metadata": {},
     "output_type": "execute_result"
    }
   ],
   "source": [
    "T_star.mean()"
   ]
  },
  {
   "cell_type": "code",
   "execution_count": 35,
   "id": "26f46469",
   "metadata": {},
   "outputs": [
    {
     "data": {
      "text/plain": [
       "0.724307075776203"
      ]
     },
     "execution_count": 35,
     "metadata": {},
     "output_type": "execute_result"
    }
   ],
   "source": [
    "sample_standard_error(X)"
   ]
  },
  {
   "cell_type": "code",
   "execution_count": 36,
   "id": "2b4da0cb",
   "metadata": {},
   "outputs": [
    {
     "data": {
      "text/plain": [
       "0.06070349192428867"
      ]
     },
     "execution_count": 36,
     "metadata": {},
     "output_type": "execute_result"
    }
   ],
   "source": [
    "sample_var_boot"
   ]
  },
  {
   "cell_type": "code",
   "execution_count": 37,
   "id": "98c9d8c3",
   "metadata": {
    "scrolled": false
   },
   "outputs": [
    {
     "name": "stderr",
     "output_type": "stream",
     "text": [
      "c:\\Users\\Darius\\miniconda3\\envs\\general_env\\Lib\\site-packages\\seaborn\\_oldcore.py:1119: FutureWarning: use_inf_as_na option is deprecated and will be removed in a future version. Convert inf values to NaN before operating instead.\n",
      "  with pd.option_context('mode.use_inf_as_na', True):\n"
     ]
    },
    {
     "data": {
      "text/plain": [
       "<Axes: xlabel='T*', ylabel='Count'>"
      ]
     },
     "execution_count": 37,
     "metadata": {},
     "output_type": "execute_result"
    },
    {
     "data": {
      "image/png": "[encoded data removed]",
      "text/plain": [
       "<Figure size 640x480 with 1 Axes>"
      ]
     },
     "metadata": {},
     "output_type": "display_data"
    }
   ],
   "source": [
    "fig, axes = plt.subplots()\n",
    "axes.set_xlabel('T*')\n",
    "sns.histplot(data=T_star, ax=axes)"
   ]
  },
  {
   "cell_type": "code",
   "execution_count": 38,
   "id": "a76b68a5",
   "metadata": {},
   "outputs": [],
   "source": [
    "def sample_mean(X:np.ndarray) -> float:\n",
    "    return X.mean()"
   ]
  },
  {
   "cell_type": "code",
   "execution_count": 42,
   "id": "93a31139",
   "metadata": {},
   "outputs": [],
   "source": [
    "kurt = kurtosis(T_star)\n",
    "skewness = skew(T_star)"
   ]
  },
  {
   "cell_type": "code",
   "execution_count": 43,
   "id": "9e799532",
   "metadata": {},
   "outputs": [
    {
     "data": {
      "text/plain": [
       "0.19986740923648139"
      ]
     },
     "execution_count": 43,
     "metadata": {},
     "output_type": "execute_result"
    }
   ],
   "source": [
    "kurt"
   ]
  },
  {
   "cell_type": "code",
   "execution_count": 44,
   "id": "a2e7ae1a",
   "metadata": {},
   "outputs": [
    {
     "data": {
      "text/plain": [
       "-0.17884314529246897"
      ]
     },
     "execution_count": 44,
     "metadata": {},
     "output_type": "execute_result"
    }
   ],
   "source": [
    "skewness"
   ]
  },
  {
   "cell_type": "code",
   "execution_count": 45,
   "id": "72b3b8ef",
   "metadata": {},
   "outputs": [],
   "source": [
    "kurt_x = kurtosis(X)\n",
    "skew_x = skew(X)"
   ]
  },
  {
   "cell_type": "code",
   "execution_count": 46,
   "id": "8166339c",
   "metadata": {},
   "outputs": [
    {
     "data": {
      "text/plain": [
       "0.22605058388210253"
      ]
     },
     "execution_count": 46,
     "metadata": {},
     "output_type": "execute_result"
    }
   ],
   "source": [
    "kurt_x"
   ]
  },
  {
   "cell_type": "code",
   "execution_count": 47,
   "id": "60326310",
   "metadata": {},
   "outputs": [
    {
     "data": {
      "text/plain": [
       "0.7246834148840973"
      ]
     },
     "execution_count": 47,
     "metadata": {},
     "output_type": "execute_result"
    }
   ],
   "source": [
    "skew_x"
   ]
  },
  {
   "cell_type": "markdown",
   "id": "b3e43692",
   "metadata": {},
   "source": [
    "### Correlation Coefficient"
   ]
  },
  {
   "cell_type": "code",
   "execution_count": 48,
   "id": "acca183e",
   "metadata": {},
   "outputs": [],
   "source": [
    "Y = df.urea"
   ]
  },
  {
   "cell_type": "code",
   "execution_count": 49,
   "id": "3c612f35",
   "metadata": {},
   "outputs": [
    {
     "data": {
      "text/plain": [
       "-0.2755569443216652"
      ]
     },
     "execution_count": 49,
     "metadata": {},
     "output_type": "execute_result"
    }
   ],
   "source": [
    "np.corrcoef(X,Y)[0][1]"
   ]
  },
  {
   "cell_type": "code",
   "execution_count": 50,
   "id": "9e21e838",
   "metadata": {},
   "outputs": [],
   "source": [
    "def bootstrap_corrcoef(sampling_distribution,X,Y,B):\n",
    "    T_star = np.empty(shape=(B))\n",
    "    X_star = np.empty(shape=(B,len(X)))\n",
    "    Y_star = np.empty(shape=(B,len(Y)))\n",
    "    for i in range(B):\n",
    "        idx = sampling_distribution.rvs(size=len(X))\n",
    "        X_star_i = X[idx]\n",
    "        Y_star_i = Y[idx]\n",
    "        X_star[i] = X_star_i\n",
    "        Y_star[i] = Y_star_i\n",
    "        T_star_i = np.corrcoef(X_star_i, Y_star_i)[0][1]\n",
    "        T_star[i] = T_star_i\n",
    "    return X_star, Y_star, T_star"
   ]
  },
  {
   "cell_type": "code",
   "execution_count": 51,
   "id": "826041bd",
   "metadata": {},
   "outputs": [],
   "source": [
    "x,y,t = bootstrap_corrcoef(discrete_uniform,X,Y,B)"
   ]
  },
  {
   "cell_type": "code",
   "execution_count": 52,
   "id": "eded1a63",
   "metadata": {},
   "outputs": [
    {
     "name": "stderr",
     "output_type": "stream",
     "text": [
      "c:\\Users\\Darius\\miniconda3\\envs\\general_env\\Lib\\site-packages\\seaborn\\_oldcore.py:1119: FutureWarning: use_inf_as_na option is deprecated and will be removed in a future version. Convert inf values to NaN before operating instead.\n",
      "  with pd.option_context('mode.use_inf_as_na', True):\n"
     ]
    },
    {
     "data": {
      "text/plain": [
       "<Axes: ylabel='Count'>"
      ]
     },
     "execution_count": 52,
     "metadata": {},
     "output_type": "execute_result"
    },
    {
     "data": {
      "image/png": "[encoded data removed]",
      "text/plain": [
       "<Figure size 640x480 with 1 Axes>"
      ]
     },
     "metadata": {},
     "output_type": "display_data"
    }
   ],
   "source": [
    "sns.histplot(t)"
   ]
  },
  {
   "cell_type": "markdown",
   "id": "ee1ae290",
   "metadata": {},
   "source": [
    "#### Different values for B"
   ]
  },
  {
   "cell_type": "code",
   "execution_count": 53,
   "id": "8a0af23c",
   "metadata": {},
   "outputs": [],
   "source": [
    "B_values = np.arange(25, 5000, 50, dtype=int)"
   ]
  },
  {
   "cell_type": "code",
   "execution_count": 54,
   "id": "f7e97356",
   "metadata": {},
   "outputs": [],
   "source": [
    "def standard_error(X:np.ndarray) -> float:\n",
    "    X_centered_squared = (X-X.mean())**2\n",
    "    return np.sqrt(np.sum(X_centered_squared)/(len(X)-1))"
   ]
  },
  {
   "cell_type": "code",
   "execution_count": 55,
   "id": "8c45e696",
   "metadata": {},
   "outputs": [],
   "source": [
    "def bootstrap_statistic_std(sampling_distribution, statistic, X, B):\n",
    "    T_star = np.empty(shape=(B))\n",
    "    for i in range(B):\n",
    "        X_star_i = X[sampling_distribution.rvs(size=len(X))]\n",
    "        T_star[i] = statistic(X_star_i)\n",
    "    return standard_error(T_star)"
   ]
  },
  {
   "cell_type": "code",
   "execution_count": 57,
   "id": "34ef5b45",
   "metadata": {},
   "outputs": [],
   "source": [
    "estimates = np.empty(len(B_values))\n",
    "for i, B in enumerate(B_values):\n",
    "    estimates[i] = bootstrap_statistic_std(discrete_uniform, np.median, X, B)"
   ]
  },
  {
   "cell_type": "code",
   "execution_count": null,
   "id": "8bebae48",
   "metadata": {},
   "outputs": [],
   "source": [
    "B_table = pd.DataFrame(data=estimates, index=B_values, columns=['Bootstrapped Std. Error of the Median'])"
   ]
  },
  {
   "cell_type": "code",
   "execution_count": null,
   "id": "06031b73",
   "metadata": {},
   "outputs": [
    {
     "data": {
      "image/png": "[encoded data removed]",
      "text/plain": [
       "<Figure size 432x288 with 1 Axes>"
      ]
     },
     "metadata": {
      "needs_background": "light"
     },
     "output_type": "display_data"
    }
   ],
   "source": [
    "B_table.plot(legend=False, xlabel='Number of bootstrap samples', ylabel='Bootstrapped std. error of the median')\n",
    "plt.show()"
   ]
  },
  {
   "cell_type": "code",
   "execution_count": null,
   "id": "79588f92",
   "metadata": {},
   "outputs": [
    {
     "data": {
      "text/html": [
       "<div>\n",
       "<style scoped>\n",
       "    .dataframe tbody tr th:only-of-type {\n",
       "        vertical-align: middle;\n",
       "    }\n",
       "\n",
       "    .dataframe tbody tr th {\n",
       "        vertical-align: top;\n",
       "    }\n",
       "\n",
       "    .dataframe thead th {\n",
       "        text-align: right;\n",
       "    }\n",
       "</style>\n",
       "<table border=\"1\" class=\"dataframe\">\n",
       "  <thead>\n",
       "    <tr style=\"text-align: right;\">\n",
       "      <th></th>\n",
       "      <th>25</th>\n",
       "      <th>75</th>\n",
       "      <th>125</th>\n",
       "      <th>175</th>\n",
       "      <th>225</th>\n",
       "      <th>275</th>\n",
       "      <th>325</th>\n",
       "      <th>375</th>\n",
       "      <th>425</th>\n",
       "      <th>475</th>\n",
       "      <th>...</th>\n",
       "      <th>4525</th>\n",
       "      <th>4575</th>\n",
       "      <th>4625</th>\n",
       "      <th>4675</th>\n",
       "      <th>4725</th>\n",
       "      <th>4775</th>\n",
       "      <th>4825</th>\n",
       "      <th>4875</th>\n",
       "      <th>4925</th>\n",
       "      <th>4975</th>\n",
       "    </tr>\n",
       "  </thead>\n",
       "  <tbody>\n",
       "    <tr>\n",
       "      <th>Bootstrapped Std. Error of the Median</th>\n",
       "      <td>0.093897</td>\n",
       "      <td>0.100244</td>\n",
       "      <td>0.111638</td>\n",
       "      <td>0.106284</td>\n",
       "      <td>0.111441</td>\n",
       "      <td>0.108782</td>\n",
       "      <td>0.112439</td>\n",
       "      <td>0.103501</td>\n",
       "      <td>0.097444</td>\n",
       "      <td>0.110187</td>\n",
       "      <td>...</td>\n",
       "      <td>0.105908</td>\n",
       "      <td>0.104917</td>\n",
       "      <td>0.10464</td>\n",
       "      <td>0.10584</td>\n",
       "      <td>0.103647</td>\n",
       "      <td>0.104588</td>\n",
       "      <td>0.106852</td>\n",
       "      <td>0.105346</td>\n",
       "      <td>0.103272</td>\n",
       "      <td>0.105534</td>\n",
       "    </tr>\n",
       "  </tbody>\n",
       "</table>\n",
       "<p>1 rows × 100 columns</p>\n",
       "</div>"
      ],
      "text/plain": [
       "                                           25        75        125       175   \\\n",
       "Bootstrapped Std. Error of the Median  0.093897  0.100244  0.111638  0.106284   \n",
       "\n",
       "                                           225       275       325       375   \\\n",
       "Bootstrapped Std. Error of the Median  0.111441  0.108782  0.112439  0.103501   \n",
       "\n",
       "                                           425       475   ...      4525  \\\n",
       "Bootstrapped Std. Error of the Median  0.097444  0.110187  ...  0.105908   \n",
       "\n",
       "                                           4575     4625     4675      4725  \\\n",
       "Bootstrapped Std. Error of the Median  0.104917  0.10464  0.10584  0.103647   \n",
       "\n",
       "                                           4775      4825      4875      4925  \\\n",
       "Bootstrapped Std. Error of the Median  0.104588  0.106852  0.105346  0.103272   \n",
       "\n",
       "                                           4975  \n",
       "Bootstrapped Std. Error of the Median  0.105534  \n",
       "\n",
       "[1 rows x 100 columns]"
      ]
     },
     "execution_count": 96,
     "metadata": {},
     "output_type": "execute_result"
    }
   ],
   "source": [
    "B_table.transpose()"
   ]
  },
  {
   "cell_type": "code",
   "execution_count": null,
   "id": "c6841b1d",
   "metadata": {},
   "outputs": [
    {
     "name": "stdout",
     "output_type": "stream",
     "text": [
      "min = 0.09389710680668853  max=0.11243875192509448\n"
     ]
    }
   ],
   "source": [
    "print(f\"min = {B_table['Bootstrap Estimate'].min()}  max={B_table['Bootstrap Estimate'].max()}\")"
   ]
  },
  {
   "cell_type": "code",
   "execution_count": null,
   "id": "11163030",
   "metadata": {},
   "outputs": [],
   "source": []
  }
 ],
 "metadata": {
  "kernelspec": {
   "display_name": "Python 3 (ipykernel)",
   "language": "python",
   "name": "python3"
  },
  "language_info": {
   "codemirror_mode": {
    "name": "ipython",
    "version": 3
   },
   "file_extension": ".py",
   "mimetype": "text/x-python",
   "name": "python",
   "nbconvert_exporter": "python",
   "pygments_lexer": "ipython3",
   "version": "3.12.2"
  }
 },
 "nbformat": 4,
 "nbformat_minor": 5
}
