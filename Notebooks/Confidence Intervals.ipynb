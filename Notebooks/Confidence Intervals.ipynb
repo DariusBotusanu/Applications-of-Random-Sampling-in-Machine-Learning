{
 "cells": [
  {
   "cell_type": "code",
   "execution_count": 1,
   "id": "fbfd3a68",
   "metadata": {},
   "outputs": [],
   "source": [
    "#imports\n",
    "import numpy as np\n",
    "import pandas as pd\n",
    "import seaborn as sns\n",
    "sns.set_style('whitegrid')\n",
    "from scipy.stats import randint"
   ]
  },
  {
   "cell_type": "code",
   "execution_count": 2,
   "id": "cbcf3b88",
   "metadata": {},
   "outputs": [],
   "source": [
    "#The data\n",
    "data = pd.read_csv('../data/kindey stone urine analysis.csv')\n",
    "data.head(5)\n",
    "alpha = 0.05"
   ]
  },
  {
   "cell_type": "code",
   "execution_count": 3,
   "id": "c2dee805",
   "metadata": {},
   "outputs": [],
   "source": [
    "X = np.array(data.ph)\n",
    "Y = np.array(data.urea)\n",
    "B=1000"
   ]
  },
  {
   "cell_type": "code",
   "execution_count": 4,
   "id": "e439c1a0",
   "metadata": {},
   "outputs": [],
   "source": [
    "#Distributions\n",
    "discrete_uniform = randint(low = 0, high=79)"
   ]
  },
  {
   "cell_type": "markdown",
   "id": "289967dc",
   "metadata": {},
   "source": [
    "## The bootstrap-t"
   ]
  },
  {
   "cell_type": "code",
   "execution_count": 5,
   "id": "792749f9",
   "metadata": {},
   "outputs": [],
   "source": [
    "def bootstrap_samples(sampling_distribution, X, B):\n",
    "    X_star = np.empty(shape=(B,len(X)))\n",
    "    for i in range(B):\n",
    "        X_star[i] = X[sampling_distribution.rvs(size=len(X))]\n",
    "    return X_star"
   ]
  },
  {
   "cell_type": "code",
   "execution_count": 6,
   "id": "fe65e604",
   "metadata": {},
   "outputs": [],
   "source": [
    "def plug_in_estimate(X, statistic):\n",
    "    return statistic(X)"
   ]
  },
  {
   "cell_type": "code",
   "execution_count": 7,
   "id": "d5a5593e",
   "metadata": {},
   "outputs": [],
   "source": [
    "corr_estimate = np.corrcoef(X,Y)[0][1]"
   ]
  },
  {
   "cell_type": "code",
   "execution_count": 8,
   "id": "5c936238",
   "metadata": {},
   "outputs": [
    {
     "data": {
      "text/plain": [
       "-0.2755569443216652"
      ]
     },
     "execution_count": 8,
     "metadata": {},
     "output_type": "execute_result"
    }
   ],
   "source": [
    "corr_estimate"
   ]
  },
  {
   "cell_type": "code",
   "execution_count": 9,
   "id": "3d15cca5",
   "metadata": {},
   "outputs": [],
   "source": [
    "def se_corr(X,Y,B,sampling_distribution):\n",
    "    T_star_arr = np.empty(shape=(B))\n",
    "    for i in range(B):\n",
    "        idx = sampling_distribution.rvs(size=len(X))\n",
    "        T_star_arr[i] = np.corrcoef(X[idx], Y[idx])[0][1]\n",
    "    return np.sqrt((1/(B-1))*np.sum((T_star_arr-T_star_arr.mean()*np.ones(B))**2))"
   ]
  },
  {
   "cell_type": "code",
   "execution_count": 10,
   "id": "73978205",
   "metadata": {},
   "outputs": [],
   "source": [
    "def bootstrap_corrcoef_std(sampling_distribution,X,Y,B):\n",
    "    T_star = np.empty(shape=(B))\n",
    "    se_corr_arr = np.empty(shape=(B))\n",
    "    X_star = np.empty(shape=(B,len(X)))\n",
    "    Y_star = np.empty(shape=(B,len(Y)))\n",
    "    for i in range(B):\n",
    "        idx = sampling_distribution.rvs(size=len(X))\n",
    "        X_star_i = np.array(X[idx])\n",
    "        Y_star_i = np.array(Y[idx])\n",
    "        X_star[i] = X_star_i\n",
    "        Y_star[i] = Y_star_i\n",
    "        se_corr_arr[i] = se_corr(X_star_i,Y_star_i,200,randint(low = 0, high=len(X_star_i)))\n",
    "        T_star_i = np.corrcoef(X_star_i, Y_star_i)[0][1]\n",
    "        T_star[i] = T_star_i\n",
    "    return se_corr_arr, T_star"
   ]
  },
  {
   "cell_type": "code",
   "execution_count": 11,
   "id": "f898bfa5",
   "metadata": {},
   "outputs": [],
   "source": [
    "std_corr_boot, T_star = bootstrap_corrcoef_std(discrete_uniform, X,Y,B)"
   ]
  },
  {
   "cell_type": "code",
   "execution_count": 12,
   "id": "1d3ef483",
   "metadata": {},
   "outputs": [
    {
     "data": {
      "text/plain": [
       "<AxesSubplot:ylabel='Count'>"
      ]
     },
     "execution_count": 12,
     "metadata": {},
     "output_type": "execute_result"
    },
    {
     "data": {
      "image/png": "[encoded data removed]",
      "text/plain": [
       "<Figure size 432x288 with 1 Axes>"
      ]
     },
     "metadata": {
      "needs_background": "light"
     },
     "output_type": "display_data"
    }
   ],
   "source": [
    "sns.histplot(std_corr_boot)"
   ]
  },
  {
   "cell_type": "code",
   "execution_count": 13,
   "id": "e648b97e",
   "metadata": {},
   "outputs": [
    {
     "data": {
      "text/plain": [
       "<AxesSubplot:ylabel='Count'>"
      ]
     },
     "execution_count": 13,
     "metadata": {},
     "output_type": "execute_result"
    },
    {
     "data": {
      "image/png": "[encoded data removed]",
      "text/plain": [
       "<Figure size 432x288 with 1 Axes>"
      ]
     },
     "metadata": {
      "needs_background": "light"
     },
     "output_type": "display_data"
    }
   ],
   "source": [
    "sns.histplot(T_star)"
   ]
  },
  {
   "cell_type": "code",
   "execution_count": null,
   "id": "7e14cb3a",
   "metadata": {},
   "outputs": [],
   "source": []
  },
  {
   "cell_type": "code",
   "execution_count": 14,
   "id": "e9ac67f6",
   "metadata": {},
   "outputs": [],
   "source": [
    "def compute_z_star(plug_in_est, T_star, std_arr):\n",
    "    z = np.empty(len(T_star))\n",
    "    for i, T in enumerate(T_star):\n",
    "        z[i] = (T-plug_in_est)/std_arr[i]\n",
    "    return z"
   ]
  },
  {
   "cell_type": "code",
   "execution_count": 15,
   "id": "4fbd32b0",
   "metadata": {},
   "outputs": [],
   "source": [
    "Z_star = compute_z_star(corr_estimate, T_star, std_corr_boot)"
   ]
  },
  {
   "cell_type": "code",
   "execution_count": 16,
   "id": "d2587079",
   "metadata": {},
   "outputs": [],
   "source": [
    "Z_star.sort()"
   ]
  },
  {
   "cell_type": "code",
   "execution_count": 17,
   "id": "fdc879bf",
   "metadata": {},
   "outputs": [
    {
     "data": {
      "text/plain": [
       "<AxesSubplot:ylabel='Count'>"
      ]
     },
     "execution_count": 17,
     "metadata": {},
     "output_type": "execute_result"
    },
    {
     "data": {
      "image/png": "[encoded data removed]",
      "text/plain": [
       "<Figure size 432x288 with 1 Axes>"
      ]
     },
     "metadata": {
      "needs_background": "light"
     },
     "output_type": "display_data"
    }
   ],
   "source": [
    "sns.histplot(Z_star)"
   ]
  },
  {
   "cell_type": "code",
   "execution_count": 18,
   "id": "283a83af",
   "metadata": {},
   "outputs": [],
   "source": [
    "def get_bootstrap_percentile(Z_star, alpha, B):\n",
    "    idx = int(np.floor(alpha*B))\n",
    "    return Z_star[idx]"
   ]
  },
  {
   "cell_type": "code",
   "execution_count": 19,
   "id": "4a1618c5",
   "metadata": {},
   "outputs": [],
   "source": [
    "t_complement_alpha_2 = get_bootstrap_percentile(Z_star, 1-alpha/2, B)\n",
    "t_alpha_2 = get_bootstrap_percentile(Z_star, alpha/2, B)"
   ]
  },
  {
   "cell_type": "code",
   "execution_count": 20,
   "id": "7dc686b5",
   "metadata": {},
   "outputs": [
    {
     "data": {
      "text/plain": [
       "-0.2755569443216652"
      ]
     },
     "execution_count": 20,
     "metadata": {},
     "output_type": "execute_result"
    }
   ],
   "source": [
    "corr_estimate"
   ]
  },
  {
   "cell_type": "code",
   "execution_count": 21,
   "id": "0c437c59",
   "metadata": {},
   "outputs": [
    {
     "data": {
      "text/plain": [
       "-2.5035484697455916"
      ]
     },
     "execution_count": 21,
     "metadata": {},
     "output_type": "execute_result"
    }
   ],
   "source": [
    "t_alpha_2"
   ]
  },
  {
   "cell_type": "code",
   "execution_count": 22,
   "id": "3e6bb016",
   "metadata": {},
   "outputs": [],
   "source": [
    "se_estimate = se_corr(X,Y,B,randint(low = 0, high=len(X)))"
   ]
  },
  {
   "cell_type": "code",
   "execution_count": 23,
   "id": "a077d763",
   "metadata": {},
   "outputs": [],
   "source": [
    "theta_lo = corr_estimate-t_complement_alpha_2 *se_estimate\n",
    "theta_hi = corr_estimate-t_alpha_2 *se_estimate\n",
    "theta_lo, theta_hi = min(theta_lo, theta_hi), max(theta_lo, theta_hi)"
   ]
  },
  {
   "cell_type": "code",
   "execution_count": 24,
   "id": "27023c9b",
   "metadata": {},
   "outputs": [
    {
     "name": "stdout",
     "output_type": "stream",
     "text": [
      "Bootstrap-t CI: (-0.4994996696855042,-0.010714509544176576)\n"
     ]
    }
   ],
   "source": [
    "print(\"Bootstrap-t CI: ({},{})\".format(theta_lo, theta_hi))"
   ]
  },
  {
   "cell_type": "code",
   "execution_count": 25,
   "id": "7ea79e7f",
   "metadata": {},
   "outputs": [
    {
     "data": {
      "text/plain": [
       "0.22394272536383897"
      ]
     },
     "execution_count": 25,
     "metadata": {},
     "output_type": "execute_result"
    }
   ],
   "source": [
    "corr_estimate-theta_lo"
   ]
  },
  {
   "cell_type": "code",
   "execution_count": 26,
   "id": "2f3d4e3d",
   "metadata": {},
   "outputs": [
    {
     "data": {
      "text/plain": [
       "0.26484243477748864"
      ]
     },
     "execution_count": 26,
     "metadata": {},
     "output_type": "execute_result"
    }
   ],
   "source": [
    "theta_hi - corr_estimate"
   ]
  },
  {
   "cell_type": "code",
   "execution_count": 27,
   "id": "f644ecbb",
   "metadata": {},
   "outputs": [],
   "source": [
    "def shape(estimate, up, low):\n",
    "    return (up-estimate)/(estimate-low)"
   ]
  },
  {
   "cell_type": "code",
   "execution_count": 28,
   "id": "dac48461",
   "metadata": {},
   "outputs": [
    {
     "data": {
      "text/plain": [
       "1.18263468637885"
      ]
     },
     "execution_count": 28,
     "metadata": {},
     "output_type": "execute_result"
    }
   ],
   "source": [
    "shape(corr_estimate, theta_hi, theta_lo)"
   ]
  },
  {
   "cell_type": "code",
   "execution_count": 29,
   "id": "3349c4a8",
   "metadata": {},
   "outputs": [
    {
     "data": {
      "text/plain": [
       "array([-0.36627457, -0.30407222, -0.36622415, -0.08724929, -0.21959379,\n",
       "       -0.28267163, -0.26703123, -0.22810971, -0.10207028, -0.192733  ,\n",
       "       -0.16915465, -0.28888868, -0.28600859, -0.30381894, -0.13316764,\n",
       "       -0.41015155, -0.39845802, -0.28314852, -0.25150751, -0.12272296,\n",
       "       -0.16094811, -0.28917974, -0.2507293 , -0.21917195, -0.2018268 ,\n",
       "       -0.12068796, -0.19736774, -0.35063805, -0.159844  , -0.42125891,\n",
       "       -0.21252695, -0.31999495, -0.15768176, -0.12325649, -0.24718921,\n",
       "       -0.41779438, -0.23603244, -0.29954038, -0.21735722, -0.25617319,\n",
       "       -0.18988485, -0.36606448, -0.16065037, -0.30670176, -0.02232221,\n",
       "       -0.28217408, -0.37816305, -0.21439337, -0.41426554, -0.28418209,\n",
       "       -0.20600428, -0.16949759,  0.04856815, -0.31428009, -0.24380244,\n",
       "       -0.27255277, -0.37663997, -0.14685213, -0.25472901, -0.30718685,\n",
       "       -0.12603307, -0.29105506, -0.26007053, -0.05359746, -0.45504993,\n",
       "        0.00557633, -0.18460832, -0.42323051, -0.17431369, -0.34198103,\n",
       "       -0.30013835, -0.24569891, -0.23666605, -0.15736899, -0.32489716,\n",
       "       -0.16761861, -0.25889121, -0.17219137, -0.23928954, -0.32702298,\n",
       "       -0.41542481, -0.20570753, -0.15804545, -0.31733323, -0.21412182,\n",
       "       -0.13521561, -0.35733092, -0.06095496, -0.24116851, -0.20496957,\n",
       "       -0.3123698 , -0.31165253, -0.22439349, -0.19924777, -0.1759456 ,\n",
       "       -0.39173788, -0.21917185, -0.34561878, -0.21437194, -0.50800989,\n",
       "       -0.17797642, -0.29744472, -0.26524193, -0.24668762, -0.33627733,\n",
       "       -0.12018469, -0.33890822, -0.3495412 , -0.24087295, -0.31134633,\n",
       "       -0.28741608, -0.27151269, -0.04310521, -0.17455705, -0.21615869,\n",
       "       -0.20692282, -0.20962214, -0.27925911, -0.2907299 , -0.29210218,\n",
       "       -0.43420973, -0.34115304, -0.31121102, -0.21905875, -0.47466207,\n",
       "       -0.14302868, -0.36192378, -0.29066675, -0.22356021, -0.27954729,\n",
       "       -0.49509315, -0.27773423, -0.31020643, -0.39271884, -0.35603525,\n",
       "       -0.28922176, -0.30470963, -0.32223948, -0.25419315, -0.30851544,\n",
       "       -0.45611438, -0.3506583 , -0.27161344, -0.10610072, -0.23807292,\n",
       "       -0.08646955, -0.19699831, -0.28064402, -0.46533455, -0.10397175,\n",
       "       -0.3761753 , -0.3494163 , -0.43746782, -0.23814658, -0.20160886,\n",
       "       -0.35202237, -0.1113947 , -0.32834451, -0.34599659, -0.40543557,\n",
       "       -0.33201312, -0.19517259, -0.42149052, -0.37454692, -0.26776128,\n",
       "       -0.25256036, -0.25636394, -0.25557897, -0.32743947, -0.06440566,\n",
       "       -0.28501589, -0.12540413, -0.4211537 , -0.53449537, -0.10919401,\n",
       "       -0.2623694 , -0.27002714, -0.10965163, -0.32865711, -0.2188063 ,\n",
       "       -0.2408553 , -0.3539789 , -0.07847847, -0.40796864, -0.27223975,\n",
       "       -0.34838207, -0.35086381, -0.36967842, -0.26918539, -0.27000338,\n",
       "       -0.33772683, -0.22832284, -0.12152469, -0.34750238, -0.41390046,\n",
       "       -0.22142947, -0.35812395, -0.42665379, -0.45839364, -0.27025484,\n",
       "       -0.30519373, -0.36788905, -0.09470116, -0.16005722, -0.44739391,\n",
       "       -0.21391481, -0.19844588, -0.29860021, -0.32588108, -0.45063968,\n",
       "       -0.25709905, -0.38114377, -0.32906873, -0.27593521, -0.31465256,\n",
       "       -0.16004732, -0.28263452, -0.21722059, -0.21461895, -0.27530207,\n",
       "       -0.14767928, -0.13937135, -0.41694392, -0.2563462 , -0.24362474,\n",
       "       -0.28955151, -0.27877454, -0.24153076, -0.43030524, -0.27545843,\n",
       "       -0.18545992, -0.24541331, -0.40311204, -0.21876983, -0.1787012 ,\n",
       "       -0.31926092, -0.38157426, -0.37641424, -0.14654518, -0.18758721,\n",
       "       -0.28910391, -0.34519017, -0.31649473, -0.24786033, -0.28438499,\n",
       "       -0.22703358, -0.11858969,  0.00232691, -0.34014588, -0.33393268,\n",
       "       -0.29282504, -0.28311867, -0.28653501, -0.49607344, -0.20344662,\n",
       "        0.00204547, -0.29792053, -0.21952058, -0.38526819, -0.24616939,\n",
       "       -0.48714216, -0.34365949, -0.40533114, -0.27956383, -0.35593228,\n",
       "       -0.14607455, -0.22429668, -0.48898834, -0.39571726, -0.24364984,\n",
       "       -0.14063064, -0.24046596, -0.29591733, -0.35792241, -0.22576735,\n",
       "       -0.15625182,  0.05244192, -0.2108825 , -0.29298197, -0.36146683,\n",
       "       -0.40104232, -0.26377758, -0.28873537, -0.47992326, -0.2272728 ,\n",
       "       -0.53603295, -0.30100151, -0.31425488, -0.31540184, -0.19249361,\n",
       "       -0.32902404, -0.25253634, -0.42823275, -0.29381708, -0.37184236,\n",
       "       -0.35818159, -0.19803422, -0.46218226, -0.26892429, -0.24463584,\n",
       "       -0.39825491, -0.31996589, -0.38374341, -0.35639249, -0.29967734,\n",
       "       -0.38089868, -0.28557807, -0.28666038, -0.27583232, -0.38717297,\n",
       "       -0.32804049, -0.25686219, -0.37133042, -0.40341507, -0.19359738,\n",
       "       -0.30693806, -0.16306873, -0.22005988, -0.44067314, -0.33304481,\n",
       "       -0.36811088, -0.34005323, -0.196747  , -0.23079589, -0.2855658 ,\n",
       "       -0.31019478, -0.3425785 , -0.31210659, -0.2904757 , -0.26100531,\n",
       "       -0.36210749, -0.2290803 , -0.36528342, -0.1521752 , -0.29997498,\n",
       "       -0.17833694, -0.27133585, -0.24976266, -0.29234966, -0.29485232,\n",
       "       -0.17659854, -0.27841657, -0.36860119, -0.3792522 , -0.35201717,\n",
       "       -0.36537863, -0.17145008, -0.39238627, -0.37059044, -0.31251176,\n",
       "       -0.21711718, -0.33883114, -0.32022434, -0.22665785, -0.07287713,\n",
       "       -0.21534875, -0.19568524, -0.25405274, -0.19442033, -0.30411302,\n",
       "       -0.21954086, -0.35019107, -0.2639772 , -0.19311653, -0.37876249,\n",
       "       -0.40152732, -0.12437165, -0.3493044 , -0.3327885 , -0.21792349,\n",
       "       -0.23294772, -0.13201513, -0.158409  , -0.11056689, -0.29505995,\n",
       "       -0.30771525, -0.18461239, -0.42056181, -0.40902047, -0.20303355,\n",
       "       -0.18774147, -0.28495052, -0.26660328, -0.45073163, -0.19777443,\n",
       "       -0.36615068, -0.27469268, -0.34667694, -0.31489024, -0.2711318 ,\n",
       "       -0.04855297, -0.26707677, -0.30975905, -0.42004059, -0.42339241,\n",
       "       -0.31342871, -0.20348688, -0.22467409, -0.295306  , -0.38750469,\n",
       "       -0.29057584, -0.11310986, -0.2643595 , -0.37187686, -0.23133698,\n",
       "       -0.35937879, -0.34781401, -0.20306455, -0.27546027,  0.01427116,\n",
       "       -0.22533599, -0.44398666, -0.28044361, -0.30584344, -0.02045255,\n",
       "       -0.162553  , -0.44302369, -0.35755654, -0.40684681, -0.50361518,\n",
       "       -0.2992968 , -0.29818963, -0.43730188, -0.28613864, -0.2587744 ,\n",
       "       -0.34112395, -0.18335933, -0.34063419, -0.44445732, -0.22540871,\n",
       "       -0.22813655, -0.23331313, -0.25902483, -0.23821602, -0.31729309,\n",
       "       -0.25747377, -0.34269065, -0.09631234, -0.27824304, -0.19283684,\n",
       "       -0.21860503, -0.12541654, -0.47885752, -0.34095262, -0.12802768,\n",
       "       -0.14954088, -0.05835276, -0.49778121, -0.19667102, -0.22010245,\n",
       "       -0.2509208 , -0.43688753, -0.23892901, -0.22624464, -0.23223843,\n",
       "       -0.43667564, -0.38360471, -0.08805382, -0.11042232, -0.27683903,\n",
       "       -0.3566746 , -0.09597062, -0.1009246 , -0.18450267, -0.18382881,\n",
       "       -0.23695616, -0.29042322, -0.39413581, -0.07984763, -0.26787009,\n",
       "       -0.49279186, -0.05135566, -0.28844608, -0.15675392, -0.2699354 ,\n",
       "       -0.28124782, -0.41773565, -0.14953247, -0.42170358, -0.02449983,\n",
       "       -0.26766465, -0.14199656, -0.45815638, -0.23807714, -0.3278337 ,\n",
       "       -0.29371764, -0.2625592 , -0.27587787, -0.25118655, -0.2219574 ,\n",
       "       -0.3311058 , -0.28602051, -0.16417264, -0.36675067, -0.35886144,\n",
       "       -0.25425546, -0.39640844, -0.27896961, -0.35605603, -0.2698009 ,\n",
       "       -0.41068784, -0.31981324, -0.32935662, -0.19060947, -0.36202217,\n",
       "       -0.26332455, -0.24132109, -0.09693182, -0.28684083, -0.27931448,\n",
       "       -0.2594213 , -0.38653437, -0.39043628, -0.20242408, -0.3248843 ,\n",
       "       -0.20919683, -0.40157981, -0.37414528, -0.16930687, -0.31126354,\n",
       "       -0.21675463, -0.26122357, -0.35977822, -0.14756139, -0.52144651,\n",
       "       -0.10174622, -0.26739463, -0.28767656, -0.23427909, -0.25015222,\n",
       "       -0.23797594, -0.16282285, -0.51660457, -0.14112232, -0.37416538,\n",
       "       -0.21938829, -0.32353769, -0.16860253, -0.03462635, -0.24953556,\n",
       "       -0.23735868, -0.1344413 , -0.14204421, -0.36964033, -0.45073354,\n",
       "       -0.20563979, -0.21592878, -0.1721326 , -0.17587048, -0.32512229,\n",
       "       -0.26065669, -0.03585572, -0.24650534, -0.30472655, -0.3626451 ,\n",
       "       -0.22147415, -0.33221272, -0.37257843, -0.24390433, -0.14067651,\n",
       "       -0.22524474, -0.26813712, -0.25673467, -0.162759  , -0.46333667,\n",
       "       -0.44699485, -0.27312237, -0.13360139, -0.23899732, -0.18771252,\n",
       "       -0.25545919, -0.29246436, -0.41033447, -0.30980555, -0.29002243,\n",
       "       -0.31617865, -0.26627468, -0.20007952, -0.25829539, -0.32122283,\n",
       "       -0.11925457, -0.15688604, -0.47523523, -0.18809073, -0.37910677,\n",
       "       -0.34288714, -0.46900949, -0.29404051, -0.22398599, -0.36867052,\n",
       "       -0.37918605, -0.41140271, -0.38455544, -0.21746455, -0.14824123,\n",
       "       -0.1087059 , -0.3055587 , -0.19841329, -0.27769391, -0.29147613,\n",
       "       -0.30465839, -0.33791413, -0.21656052, -0.45072137, -0.39626308,\n",
       "       -0.28880934, -0.26249922, -0.18789109, -0.1220865 , -0.30534769,\n",
       "       -0.30202986, -0.13708993, -0.15565559, -0.29122296, -0.19691057,\n",
       "       -0.07904395, -0.29983067, -0.35509343, -0.51364341, -0.31360546,\n",
       "       -0.37847627, -0.2879904 , -0.46177036, -0.06950358, -0.21046393,\n",
       "       -0.22992925, -0.11110491, -0.24379604, -0.33011603, -0.28772245,\n",
       "       -0.21025107, -0.24049346, -0.30062821, -0.30715714, -0.04553411,\n",
       "       -0.23924687, -0.34667818, -0.09819492, -0.04051689, -0.50154454,\n",
       "       -0.22712105, -0.4309107 , -0.15920703, -0.31600331, -0.25279739,\n",
       "       -0.2742386 , -0.24786605, -0.02502956, -0.35344623, -0.18267867,\n",
       "       -0.0786201 , -0.21114687, -0.28687494, -0.33341911, -0.27049122,\n",
       "       -0.07186968, -0.28273719, -0.28649675, -0.42008024, -0.445843  ,\n",
       "       -0.28636505, -0.23905263, -0.36070187, -0.29974997, -0.35690512,\n",
       "       -0.4083169 , -0.10543334, -0.20687341, -0.32177947, -0.12648104,\n",
       "       -0.23244425, -0.26726429, -0.16945498, -0.37546798, -0.37354003,\n",
       "       -0.1550337 , -0.18219806, -0.3115937 , -0.35761224, -0.1744724 ,\n",
       "       -0.43482426, -0.23797504, -0.28533823, -0.15879299, -0.12685235,\n",
       "       -0.19994776, -0.26253509, -0.25803821, -0.36231863, -0.12260191,\n",
       "       -0.36923203, -0.37009748, -0.27650141, -0.40799507, -0.27988449,\n",
       "       -0.43042616, -0.21219351, -0.20050933, -0.2827894 , -0.36958106,\n",
       "       -0.25643987, -0.20040321, -0.37448776, -0.41522408, -0.28140772,\n",
       "       -0.31422677, -0.20865608, -0.19746953, -0.02481437, -0.38967852,\n",
       "       -0.19202121, -0.17654795, -0.11398346, -0.2024694 , -0.24867515,\n",
       "       -0.37677881, -0.26744745, -0.4222817 , -0.3173056 , -0.27866942,\n",
       "       -0.18620512, -0.12878914, -0.32409869, -0.29036062, -0.20922351,\n",
       "       -0.31941982, -0.01661297, -0.05993267, -0.15116946, -0.29069803,\n",
       "       -0.42171141, -0.40077836, -0.32060259, -0.28972705, -0.40791398,\n",
       "       -0.44474688, -0.38425588, -0.2409136 , -0.15999845, -0.22806452,\n",
       "       -0.34353204, -0.23739386, -0.3075428 , -0.35012901, -0.17120111,\n",
       "       -0.12149169, -0.28925254, -0.20594784, -0.05466812, -0.32750717,\n",
       "       -0.25288664, -0.18063441, -0.50482286, -0.2392681 , -0.2927024 ,\n",
       "       -0.15038521, -0.33579158, -0.22593466, -0.3893795 , -0.36133141,\n",
       "       -0.25801981, -0.33310144, -0.23572804, -0.12867183, -0.29709353,\n",
       "       -0.36823716, -0.20825063, -0.49764035, -0.2251244 , -0.3515741 ,\n",
       "       -0.34543163, -0.28532008, -0.20899539, -0.37525018, -0.3827232 ,\n",
       "       -0.18103237, -0.00252552, -0.06914514, -0.29351679, -0.32898126,\n",
       "       -0.2666827 , -0.32074227, -0.44961961, -0.1670226 , -0.21435954,\n",
       "       -0.38853096, -0.16925029, -0.268715  , -0.08311766, -0.10699339,\n",
       "       -0.40169052, -0.21708319, -0.20618329, -0.24031295, -0.21438045,\n",
       "       -0.27835382, -0.39475226, -0.3349897 , -0.24836724, -0.19687692,\n",
       "       -0.2243819 , -0.3975999 , -0.19338119, -0.09936989, -0.38931884,\n",
       "       -0.14373453, -0.12319569, -0.21622531, -0.28865165, -0.38377143,\n",
       "       -0.35586069, -0.49552807, -0.33975292, -0.1256941 , -0.1502621 ,\n",
       "       -0.47571866, -0.30726035, -0.36788974, -0.34205694, -0.36197971,\n",
       "       -0.2854194 , -0.27659854, -0.24008453, -0.35302796, -0.2067012 ,\n",
       "       -0.20443523, -0.24083536, -0.35901627, -0.16059822, -0.03740004,\n",
       "       -0.24147314, -0.25250524, -0.48929009, -0.44305996, -0.15678716,\n",
       "       -0.42249058, -0.353322  , -0.41624912, -0.19144934, -0.30366105,\n",
       "       -0.01386906, -0.3944898 , -0.39039532, -0.17640286, -0.12905469,\n",
       "       -0.31789781, -0.32322855, -0.30500925, -0.15413313, -0.27674026,\n",
       "       -0.43297252, -0.29604443, -0.2871875 , -0.42161504, -0.34800797,\n",
       "       -0.15316488, -0.03509703,  0.0132589 , -0.29240911, -0.02368079,\n",
       "       -0.25133028, -0.20906379, -0.22494323, -0.31356388, -0.38784146,\n",
       "       -0.32012287, -0.25819255, -0.2360289 , -0.18682458, -0.21022298,\n",
       "       -0.29776414, -0.23907886, -0.19866542, -0.28125286, -0.40815401,\n",
       "       -0.23035501, -0.29238248, -0.34235087, -0.2738999 , -0.46665932,\n",
       "       -0.33280874, -0.30869723, -0.21192796, -0.17217504, -0.16011838,\n",
       "       -0.10380191, -0.29144543, -0.35061866, -0.25099742, -0.26946242,\n",
       "       -0.43049487, -0.42825761, -0.24746018, -0.22776647, -0.41821828,\n",
       "       -0.24829851, -0.37871202, -0.22925063, -0.3820678 , -0.37835008,\n",
       "       -0.17964046, -0.25466869, -0.18592234, -0.21118926, -0.41882928,\n",
       "       -0.37391781, -0.32508183, -0.31515618, -0.41889184, -0.51013742,\n",
       "       -0.33863012, -0.31238114, -0.15107408, -0.37087007, -0.23842569,\n",
       "       -0.2794534 ,  0.02216737, -0.19491076, -0.33796319, -0.2988901 ,\n",
       "       -0.44653867, -0.1143492 , -0.50925921, -0.24502334, -0.29718147,\n",
       "       -0.16815335, -0.21440441, -0.49288591, -0.2155794 , -0.31815883,\n",
       "       -0.18804245, -0.30329922, -0.39891417, -0.28376553, -0.26960134,\n",
       "       -0.32325987, -0.11524367, -0.34258974, -0.23513331, -0.28717029,\n",
       "       -0.26548465, -0.27581463, -0.17226866, -0.4581682 , -0.41435742,\n",
       "       -0.29293961, -0.44506411, -0.38958105, -0.31568606, -0.42900132,\n",
       "       -0.00087475, -0.49350658, -0.19725537, -0.42986884, -0.31020648,\n",
       "       -0.0732661 , -0.13201575, -0.41705465, -0.22050007, -0.30905832,\n",
       "       -0.25142512, -0.21649537, -0.14491125, -0.33997573, -0.21886791,\n",
       "       -0.07789833, -0.4103182 , -0.28010599, -0.45967022, -0.25150055,\n",
       "       -0.13556872, -0.41914637, -0.35943231, -0.19976746, -0.16567594,\n",
       "       -0.26741235, -0.30920293, -0.25014595, -0.25273079, -0.23407348,\n",
       "       -0.24494863, -0.17165886, -0.3079786 , -0.14657383, -0.22122201,\n",
       "       -0.23570961, -0.28884143, -0.27201041, -0.14472045, -0.2068711 ,\n",
       "       -0.30619187, -0.36555976, -0.3106124 , -0.29843738, -0.3484973 ,\n",
       "       -0.18371072, -0.22693876, -0.32323739, -0.30981061, -0.30029543])"
      ]
     },
     "execution_count": 29,
     "metadata": {},
     "output_type": "execute_result"
    }
   ],
   "source": [
    "T_star"
   ]
  },
  {
   "cell_type": "code",
   "execution_count": 30,
   "id": "5d38d3eb",
   "metadata": {},
   "outputs": [],
   "source": [
    "from scipy.stats import skew"
   ]
  },
  {
   "cell_type": "code",
   "execution_count": 31,
   "id": "406298fb",
   "metadata": {},
   "outputs": [
    {
     "data": {
      "text/plain": [
       "0.16706423653897626"
      ]
     },
     "execution_count": 31,
     "metadata": {},
     "output_type": "execute_result"
    }
   ],
   "source": [
    "skew(T_star)"
   ]
  },
  {
   "cell_type": "code",
   "execution_count": 32,
   "id": "7e39be99",
   "metadata": {},
   "outputs": [
    {
     "data": {
      "text/plain": [
       "0.4887851601413276"
      ]
     },
     "execution_count": 32,
     "metadata": {},
     "output_type": "execute_result"
    }
   ],
   "source": [
    "theta_hi-theta_lo"
   ]
  },
  {
   "cell_type": "markdown",
   "id": "e2d95bd7",
   "metadata": {},
   "source": [
    "### Bootstrap percentile intervals"
   ]
  },
  {
   "cell_type": "code",
   "execution_count": 33,
   "id": "cb436047",
   "metadata": {},
   "outputs": [
    {
     "data": {
      "text/plain": [
       "<AxesSubplot:ylabel='Count'>"
      ]
     },
     "execution_count": 33,
     "metadata": {},
     "output_type": "execute_result"
    },
    {
     "data": {
      "image/png": "[encoded data removed]",
      "text/plain": [
       "<Figure size 432x288 with 1 Axes>"
      ]
     },
     "metadata": {
      "needs_background": "light"
     },
     "output_type": "display_data"
    }
   ],
   "source": [
    "sns.histplot(T_star)"
   ]
  },
  {
   "cell_type": "code",
   "execution_count": 34,
   "id": "e9db6d41",
   "metadata": {},
   "outputs": [],
   "source": [
    "def bootstrap_samples(sampling_distribution, X, B):\n",
    "    X_star = np.empty(shape=(B,len(X)))\n",
    "    for i in range(B):\n",
    "        X_star[i] = X[sampling_distribution.rvs(size=len(X))]\n",
    "    return X_star"
   ]
  },
  {
   "cell_type": "code",
   "execution_count": 35,
   "id": "c150272f",
   "metadata": {},
   "outputs": [],
   "source": [
    "T_star = sorted(T_star)"
   ]
  },
  {
   "cell_type": "code",
   "execution_count": 36,
   "id": "45db8697",
   "metadata": {},
   "outputs": [],
   "source": [
    "x_stars = bootstrap_samples(randint(low = 0, high=79), X, B)"
   ]
  },
  {
   "cell_type": "code",
   "execution_count": 37,
   "id": "fbdd0be8",
   "metadata": {},
   "outputs": [],
   "source": [
    "def var(X):\n",
    "    return (np.sum((X-np.ones(len(X))*X.mean()))**2)/len(X)"
   ]
  },
  {
   "cell_type": "code",
   "execution_count": 38,
   "id": "d35b2738",
   "metadata": {},
   "outputs": [],
   "source": [
    "bootstrapped_vars = np.empty(B)\n",
    "for i in range(B):\n",
    "    bootstrapped_vars[i] = var(x_stars[i])"
   ]
  },
  {
   "cell_type": "code",
   "execution_count": 39,
   "id": "e8ffb5fe",
   "metadata": {},
   "outputs": [
    {
     "data": {
      "text/plain": [
       "<AxesSubplot:ylabel='Count'>"
      ]
     },
     "execution_count": 39,
     "metadata": {},
     "output_type": "execute_result"
    },
    {
     "data": {
      "image/png": "[encoded data removed]",
      "text/plain": [
       "<Figure size 432x288 with 1 Axes>"
      ]
     },
     "metadata": {
      "needs_background": "light"
     },
     "output_type": "display_data"
    }
   ],
   "source": [
    "sns.histplot(bootstrapped_vars)"
   ]
  },
  {
   "cell_type": "code",
   "execution_count": 40,
   "id": "d9676d4a",
   "metadata": {},
   "outputs": [],
   "source": [
    "bootstrapped_vars.sort()"
   ]
  },
  {
   "cell_type": "code",
   "execution_count": 41,
   "id": "9b57e3ad",
   "metadata": {},
   "outputs": [],
   "source": [
    "def percentile_interval(bootstrapped_statistics, alpha):\n",
    "    return bootstrapped_statistics[int(len(bootstrapped_statistics)*alpha)//1], bootstrapped_statistics[int(len(bootstrapped_statistics)*(1-alpha))//1]"
   ]
  },
  {
   "cell_type": "code",
   "execution_count": 42,
   "id": "3886202e",
   "metadata": {},
   "outputs": [],
   "source": [
    "theta_lo, theta_hi = percentile_interval(T_star, 0.05)"
   ]
  },
  {
   "cell_type": "code",
   "execution_count": 43,
   "id": "aa9415a0",
   "metadata": {},
   "outputs": [
    {
     "name": "stdout",
     "output_type": "stream",
     "text": [
      "Length = 0.3481449769164528\n"
     ]
    }
   ],
   "source": [
    "print(f\"Length = {theta_hi-theta_lo}\")"
   ]
  },
  {
   "cell_type": "code",
   "execution_count": 44,
   "id": "b3ad1982",
   "metadata": {},
   "outputs": [
    {
     "name": "stdout",
     "output_type": "stream",
     "text": [
      "Shape = 1.0612445641252481\n"
     ]
    }
   ],
   "source": [
    "print(f\"Shape = {shape(corr_estimate, theta_hi, theta_lo)}\")"
   ]
  },
  {
   "cell_type": "code",
   "execution_count": 45,
   "id": "f50cbf43",
   "metadata": {},
   "outputs": [
    {
     "data": {
      "text/plain": [
       "22.868043087971273"
      ]
     },
     "execution_count": 45,
     "metadata": {},
     "output_type": "execute_result"
    }
   ],
   "source": [
    "(0.4456-0.3437)*100/0.4456"
   ]
  },
  {
   "cell_type": "markdown",
   "id": "c33d10a6",
   "metadata": {},
   "source": [
    "### Bias Corrected and accelerated (BCa)"
   ]
  },
  {
   "cell_type": "code",
   "execution_count": 46,
   "id": "2f820d91",
   "metadata": {},
   "outputs": [],
   "source": [
    "def jacknife_bivariate_samples(X,Y):\n",
    "    arr = []\n",
    "    for i in range(len(X)-1):\n",
    "        arr.append(list(zip(np.append(X[:i][:], X[i+1:][:]), np.append(Y[:i][:], Y[i+1:][:]))))\n",
    "    arr.append(list(zip(X[:-1][:],Y[:-1][:])))\n",
    "    return np.array(arr)"
   ]
  },
  {
   "cell_type": "code",
   "execution_count": 47,
   "id": "34b52960",
   "metadata": {},
   "outputs": [],
   "source": [
    "shanked_xy = jacknife_bivariate_samples(X,Y)"
   ]
  },
  {
   "cell_type": "code",
   "execution_count": 48,
   "id": "5acf0b7b",
   "metadata": {},
   "outputs": [
    {
     "data": {
      "text/plain": [
       "(79, 78, 2)"
      ]
     },
     "execution_count": 48,
     "metadata": {},
     "output_type": "execute_result"
    }
   ],
   "source": [
    "shanked_xy.shape"
   ]
  },
  {
   "cell_type": "code",
   "execution_count": 49,
   "id": "3cecd8d4",
   "metadata": {},
   "outputs": [],
   "source": [
    "def jacknife_samples(X):\n",
    "    arr = np.empty((len(X), len(X)-1))\n",
    "    for i in range(len(X)-1):\n",
    "        arr[i] = np.append(X[:i][:], X[i+1:][:])\n",
    "    arr[-1] = X[:-1][:]\n",
    "    return arr"
   ]
  },
  {
   "cell_type": "code",
   "execution_count": 51,
   "id": "2278c6aa",
   "metadata": {},
   "outputs": [],
   "source": [
    "shanked_xy = np.empty((2, len(X), len(X)-1))\n",
    "shanked_xy[0] = jacknife_samples(X)\n",
    "shanked_xy[1] = jacknife_samples(Y)"
   ]
  },
  {
   "cell_type": "code",
   "execution_count": 61,
   "id": "de046092",
   "metadata": {
    "scrolled": true
   },
   "outputs": [],
   "source": [
    "theta_shanked = np.empty(len(X))\n",
    "for i in range(len(X)):\n",
    "    theta_shanked[i] = np.corrcoef(shanked_xy[0][i][:], shanked_xy[1][i][:])[0][1]"
   ]
  },
  {
   "cell_type": "code",
   "execution_count": 74,
   "id": "ec4d1471",
   "metadata": {},
   "outputs": [],
   "source": [
    "theta_shanked = np.array(sorted(theta_shanked))"
   ]
  },
  {
   "cell_type": "code",
   "execution_count": 69,
   "id": "2dfd6921",
   "metadata": {},
   "outputs": [],
   "source": [
    "def acceleration(shanked_statistics):\n",
    "    n = len(shanked_statistics)\n",
    "    shanked_mean = shanked_statistics.mean()*np.ones(n)\n",
    "    denominator = np.sum((shanked_mean-shanked_statistics)**3)\n",
    "    nominator = 6*np.sum((shanked_mean-shanked_statistics)**2)**(3/2)\n",
    "    return denominator/nominator"
   ]
  },
  {
   "cell_type": "code",
   "execution_count": 70,
   "id": "26c45794",
   "metadata": {},
   "outputs": [],
   "source": [
    "from statistics import NormalDist\n",
    "def bias_correction(boostrapped_stats, plug_in_estimation, B):\n",
    "    logic_arr = sorted(boostrapped_stats) < plug_in_estimation\n",
    "    return NormalDist(mu=0, sigma=1).inv_cdf(np.sum(logic_arr)/B)"
   ]
  },
  {
   "cell_type": "code",
   "execution_count": 71,
   "id": "750336b2",
   "metadata": {},
   "outputs": [],
   "source": [
    "from statistics import NormalDist\n",
    "def BCa_alphas(z_0, acc, alpha):\n",
    "    standard_normal = NormalDist(mu=0, sigma=1)\n",
    "    alpha_one = standard_normal.cdf(z_0+(z_0+standard_normal.inv_cdf(alpha/2))/(1-acc*(z_0+standard_normal.inv_cdf(alpha/2))))\n",
    "    alpha_two = standard_normal.cdf(z_0+(z_0+standard_normal.inv_cdf(1-alpha/2))/(1-acc*(z_0+standard_normal.inv_cdf(1-alpha/2))))\n",
    "    return alpha_one, alpha_two"
   ]
  },
  {
   "cell_type": "code",
   "execution_count": 72,
   "id": "e290397a",
   "metadata": {},
   "outputs": [],
   "source": [
    "def BCa_confidence_interval(bootstrapped_stats, alpha_one, alpha_two):\n",
    "    B = len(bootstrapped_stats)\n",
    "    return bootstrapped_stats[int(B*alpha_one//1)], bootstrapped_stats[int(B*alpha_two//1)]"
   ]
  },
  {
   "cell_type": "code",
   "execution_count": null,
   "id": "158eb3d7",
   "metadata": {},
   "outputs": [],
   "source": [
    "def bootstrapped_statistics(x_stars, statistic):\n",
    "    thetas = np.empty(len(x_stars))\n",
    "    for i,x_star in enumerate(x_stars):\n",
    "        thetas[i] = statistic(x_star)\n",
    "    return thetas"
   ]
  },
  {
   "cell_type": "code",
   "execution_count": 67,
   "id": "140a2175",
   "metadata": {},
   "outputs": [],
   "source": [
    "theta_stars = T_star"
   ]
  },
  {
   "cell_type": "code",
   "execution_count": 75,
   "id": "0b9af298",
   "metadata": {},
   "outputs": [],
   "source": [
    "acc = acceleration(theta_shanked)\n",
    "z_0 = bias_correction(theta_stars, np.corrcoef(X,Y)[0][1], B)"
   ]
  },
  {
   "cell_type": "code",
   "execution_count": 76,
   "id": "002ada79",
   "metadata": {},
   "outputs": [],
   "source": [
    "alpha_one, alpha_two = BCa_alphas(z_0, acc, alpha)"
   ]
  },
  {
   "cell_type": "code",
   "execution_count": 77,
   "id": "410c835d",
   "metadata": {},
   "outputs": [
    {
     "data": {
      "text/plain": [
       "0.032034342339263944"
      ]
     },
     "execution_count": 77,
     "metadata": {},
     "output_type": "execute_result"
    }
   ],
   "source": [
    "alpha_one"
   ]
  },
  {
   "cell_type": "code",
   "execution_count": 78,
   "id": "f777c2f1",
   "metadata": {},
   "outputs": [
    {
     "data": {
      "text/plain": [
       "0.9811347613377702"
      ]
     },
     "execution_count": 78,
     "metadata": {},
     "output_type": "execute_result"
    }
   ],
   "source": [
    "alpha_two"
   ]
  },
  {
   "cell_type": "code",
   "execution_count": 81,
   "id": "8c3f623d",
   "metadata": {},
   "outputs": [],
   "source": [
    "lower,upper = BCa_confidence_interval(theta_stars, alpha_one, alpha_two)"
   ]
  },
  {
   "cell_type": "code",
   "execution_count": 82,
   "id": "4bea6c4c",
   "metadata": {},
   "outputs": [
    {
     "name": "stdout",
     "output_type": "stream",
     "text": [
      "Length = 0.4271440148565759\n",
      "Shape = 0.7728923765480845\n"
     ]
    }
   ],
   "source": [
    "print(f\"Length = {upper-lower}\")\n",
    "print(f\"Shape = {shape(np.corrcoef(X,Y)[0][1],lower,upper)}\")"
   ]
  },
  {
   "cell_type": "code",
   "execution_count": 83,
   "id": "4daa6ba5",
   "metadata": {},
   "outputs": [
    {
     "data": {
      "text/plain": [
       "(-0.4617703643452666, -0.03462634948869068)"
      ]
     },
     "execution_count": 83,
     "metadata": {},
     "output_type": "execute_result"
    }
   ],
   "source": [
    "lower, upper"
   ]
  },
  {
   "cell_type": "code",
   "execution_count": 84,
   "id": "2954028b",
   "metadata": {},
   "outputs": [
    {
     "data": {
      "text/plain": [
       "<AxesSubplot:ylabel='Count'>"
      ]
     },
     "execution_count": 84,
     "metadata": {},
     "output_type": "execute_result"
    },
    {
     "data": {
      "image/png": "[encoded data removed]",
      "text/plain": [
       "<Figure size 432x288 with 1 Axes>"
      ]
     },
     "metadata": {
      "needs_background": "light"
     },
     "output_type": "display_data"
    }
   ],
   "source": [
    "sns.histplot(T_star)"
   ]
  },
  {
   "cell_type": "code",
   "execution_count": null,
   "id": "3b9e932d",
   "metadata": {},
   "outputs": [],
   "source": []
  }
 ],
 "metadata": {
  "kernelspec": {
   "display_name": "Python 3 (ipykernel)",
   "language": "python",
   "name": "python3"
  },
  "language_info": {
   "codemirror_mode": {
    "name": "ipython",
    "version": 3
   },
   "file_extension": ".py",
   "mimetype": "text/x-python",
   "name": "python",
   "nbconvert_exporter": "python",
   "pygments_lexer": "ipython3",
   "version": "3.11.5"
  }
 },
 "nbformat": 4,
 "nbformat_minor": 5
}
